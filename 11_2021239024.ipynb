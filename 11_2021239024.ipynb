{
  "cells": [
    {
      "cell_type": "markdown",
      "metadata": {
        "id": "AwE4dqSS-UpA"
      },
      "source": [
        "# Exercise 11 - CNN Architectures (Applied)"
      ]
    },
    {
      "cell_type": "code",
      "execution_count": 47,
      "metadata": {
        "id": "9rsCovdP-UG3"
      },
      "outputs": [],
      "source": [
        "import torch\n",
        "import matplotlib.pyplot as plt\n",
        "from torchvision import datasets, transforms\n",
        "from torch.utils.data import DataLoader\n",
        "import torch.nn as nn\n",
        "import torch.nn.functional as F\n",
        "from torchvision import models\n",
        "import torch.optim as optim\n",
        "from tqdm import tqdm\n",
        "import pandas as pd\n",
        "import seaborn as sns"
      ]
    },
    {
      "cell_type": "markdown",
      "metadata": {
        "id": "GK_hpVFs_CUU"
      },
      "source": [
        "Defining the transformation to tensors and normalization pipeline"
      ]
    },
    {
      "cell_type": "code",
      "execution_count": 3,
      "metadata": {
        "id": "ppeIxBlu-2wP"
      },
      "outputs": [],
      "source": [
        "transform_mnist = transforms.Compose([\n",
        "    transforms.ToTensor(),\n",
        "    transforms.Normalize((0.5,), (0.5,))   # mean, std for grayscale images\n",
        "])\n",
        "\n",
        "transform_cifar = transforms.Compose([\n",
        "    transforms.ToTensor(),\n",
        "    transforms.Normalize((0.5, 0.5, 0.5), (0.5, 0.5, 0.5))  # for RGB images\n",
        "])"
      ]
    },
    {
      "cell_type": "markdown",
      "metadata": {
        "id": "2x1vs9Ey_HnV"
      },
      "source": [
        "### MNIST Dataset"
      ]
    },
    {
      "cell_type": "code",
      "execution_count": 4,
      "metadata": {
        "colab": {
          "base_uri": "https://localhost:8080/"
        },
        "id": "yap6so9Q-4MP",
        "outputId": "b3278ead-ee3e-4558-e8cb-9fa772283347"
      },
      "outputs": [
        {
          "output_type": "stream",
          "name": "stderr",
          "text": [
            "100%|██████████| 9.91M/9.91M [00:00<00:00, 12.7MB/s]\n",
            "100%|██████████| 28.9k/28.9k [00:00<00:00, 341kB/s]\n",
            "100%|██████████| 1.65M/1.65M [00:00<00:00, 3.15MB/s]\n",
            "100%|██████████| 4.54k/4.54k [00:00<00:00, 11.6MB/s]\n"
          ]
        }
      ],
      "source": [
        "mnist_train = datasets.MNIST(root='./data', train=True, download=True, transform=transform_mnist)\n",
        "mnist_test = datasets.MNIST(root='./data', train=False, download=True, transform=transform_mnist)\n",
        "\n",
        "mnist_train_loader = DataLoader(mnist_train, batch_size=64, shuffle=True)\n",
        "mnist_test_loader = DataLoader(mnist_test, batch_size=64, shuffle=False)\n"
      ]
    },
    {
      "cell_type": "markdown",
      "metadata": {
        "id": "h1iZ7vPp_KTF"
      },
      "source": [
        "### Fashion MNIST Dataset"
      ]
    },
    {
      "cell_type": "code",
      "execution_count": 5,
      "metadata": {
        "colab": {
          "base_uri": "https://localhost:8080/"
        },
        "id": "_hXgsXcy-6WS",
        "outputId": "16790c4d-40bd-40aa-cfe2-7ebb39a6ed8d"
      },
      "outputs": [
        {
          "output_type": "stream",
          "name": "stderr",
          "text": [
            "100%|██████████| 26.4M/26.4M [00:00<00:00, 114MB/s]\n",
            "100%|██████████| 29.5k/29.5k [00:00<00:00, 4.75MB/s]\n",
            "100%|██████████| 4.42M/4.42M [00:00<00:00, 68.9MB/s]\n",
            "100%|██████████| 5.15k/5.15k [00:00<00:00, 29.5MB/s]\n"
          ]
        }
      ],
      "source": [
        "fashion_train = datasets.FashionMNIST(root='./data', train=True, download=True, transform=transform_mnist)\n",
        "fashion_test = datasets.FashionMNIST(root='./data', train=False, download=True, transform=transform_mnist)\n",
        "\n",
        "fashion_train_loader = DataLoader(fashion_train, batch_size=64, shuffle=True)\n",
        "fashion_test_loader = DataLoader(fashion_test, batch_size=64, shuffle=False)"
      ]
    },
    {
      "cell_type": "markdown",
      "metadata": {
        "id": "66T9eqpu_Mud"
      },
      "source": [
        "### CIFAR-10 Dataset"
      ]
    },
    {
      "cell_type": "code",
      "execution_count": 6,
      "metadata": {
        "colab": {
          "base_uri": "https://localhost:8080/"
        },
        "id": "k5V46QyW--4f",
        "outputId": "4ec9761b-e314-4fd3-8592-e660de80cefd"
      },
      "outputs": [
        {
          "output_type": "stream",
          "name": "stderr",
          "text": [
            "100%|██████████| 170M/170M [00:05<00:00, 28.5MB/s]\n"
          ]
        }
      ],
      "source": [
        "cifar_train = datasets.CIFAR10(root='./data', train=True, download=True, transform=transform_cifar)\n",
        "cifar_test = datasets.CIFAR10(root='./data', train=False, download=True, transform=transform_cifar)\n",
        "\n",
        "cifar_train_loader = DataLoader(cifar_train, batch_size=64, shuffle=True)\n",
        "cifar_test_loader = DataLoader(cifar_test, batch_size=64, shuffle=False)"
      ]
    },
    {
      "cell_type": "code",
      "execution_count": 7,
      "metadata": {
        "colab": {
          "base_uri": "https://localhost:8080/"
        },
        "id": "2LyiLKPl_BOH",
        "outputId": "ed989273-bc5a-4488-83a5-8f42ba112c8f"
      },
      "outputs": [
        {
          "output_type": "execute_result",
          "data": {
            "text/plain": [
              "(60000, 10000)"
            ]
          },
          "metadata": {},
          "execution_count": 7
        }
      ],
      "source": [
        "len(mnist_train), len(mnist_test)"
      ]
    },
    {
      "cell_type": "code",
      "execution_count": 8,
      "metadata": {
        "colab": {
          "base_uri": "https://localhost:8080/"
        },
        "id": "jTv2isO6_YTS",
        "outputId": "caa45f06-dd70-43d3-b87a-741c713ad770"
      },
      "outputs": [
        {
          "output_type": "execute_result",
          "data": {
            "text/plain": [
              "(60000, 10000)"
            ]
          },
          "metadata": {},
          "execution_count": 8
        }
      ],
      "source": [
        "len(fashion_train), len(fashion_test)"
      ]
    },
    {
      "cell_type": "code",
      "execution_count": 9,
      "metadata": {
        "colab": {
          "base_uri": "https://localhost:8080/"
        },
        "id": "8wgzV-IH_ib-",
        "outputId": "ea74b4b9-e971-402e-b8c8-fec3ee48f867"
      },
      "outputs": [
        {
          "output_type": "execute_result",
          "data": {
            "text/plain": [
              "(50000, 10000)"
            ]
          },
          "metadata": {},
          "execution_count": 9
        }
      ],
      "source": [
        "len(cifar_train), len(cifar_test)"
      ]
    },
    {
      "cell_type": "code",
      "execution_count": 10,
      "metadata": {
        "id": "g-byfJsb_kqO"
      },
      "outputs": [],
      "source": [
        "def show_image(image_tensor, title):\n",
        "    img = image_tensor.squeeze()\n",
        "    if img.ndim == 2:\n",
        "        plt.imshow(img, cmap='gray')\n",
        "    else:\n",
        "        plt.imshow((img.permute(1, 2, 0) + 1) / 2)  # de-normalize RGB\n",
        "    plt.title(title)\n",
        "    plt.axis('off')\n",
        "    plt.show()\n"
      ]
    },
    {
      "cell_type": "code",
      "execution_count": 11,
      "metadata": {
        "colab": {
          "base_uri": "https://localhost:8080/",
          "height": 1000
        },
        "id": "ZDHP0o5n_p3_",
        "outputId": "2959aaba-6d63-479a-bee6-067bfea49646"
      },
      "outputs": [
        {
          "output_type": "display_data",
          "data": {
            "text/plain": [
              "<Figure size 640x480 with 1 Axes>"
            ],
            "image/png": "[encoded data removed]"
          },
          "metadata": {}
        },
        {
          "output_type": "display_data",
          "data": {
            "text/plain": [
              "<Figure size 640x480 with 1 Axes>"
            ],
            "image/png": "[encoded data removed]"
          },
          "metadata": {}
        },
        {
          "output_type": "display_data",
          "data": {
            "text/plain": [
              "<Figure size 640x480 with 1 Axes>"
            ],
            "image/png": "[encoded data removed]"
          },
          "metadata": {}
        }
      ],
      "source": [
        "mnist_images, mnist_labels = next(iter(mnist_train_loader))\n",
        "fashion_images, fashion_labels = next(iter(fashion_train_loader))\n",
        "cifar_images, cifar_labels = next(iter(cifar_train_loader))\n",
        "\n",
        "# Show one image from each dataset\n",
        "show_image(mnist_images[0], f\"MNIST Label: {mnist_labels[0].item()}\")\n",
        "show_image(fashion_images[0], f\"Fashion-MNIST Label: {fashion_labels[0].item()}\")\n",
        "show_image(cifar_images[0], f\"CIFAR-10 Label: {cifar_labels[0].item()}\")"
      ]
    },
    {
      "cell_type": "markdown",
      "metadata": {
        "id": "5fye2VPaBe_k"
      },
      "source": [
        "### Next let me define the models I am gonna use :"
      ]
    },
    {
      "cell_type": "markdown",
      "metadata": {
        "id": "jWGXOMUMBh7U"
      },
      "source": [
        "### **LeNet**"
      ]
    },
    {
      "cell_type": "code",
      "execution_count": 32,
      "metadata": {
        "id": "nlqKqbzi_wEW"
      },
      "outputs": [],
      "source": [
        "class LeNet(nn.Module):\n",
        "    def __init__(self, in_channels=1, num_classes=10):\n",
        "        super(LeNet, self).__init__()\n",
        "        self.features = nn.Sequential(\n",
        "            nn.Conv2d(in_channels, 6, kernel_size=5, stride=1, padding=0),\n",
        "            nn.Tanh(),\n",
        "            nn.AvgPool2d(kernel_size=2, stride=2),\n",
        "            nn.Conv2d(6, 16, kernel_size=5, stride=1, padding=0),\n",
        "            nn.Tanh(),\n",
        "            nn.AvgPool2d(kernel_size=2, stride=2)\n",
        "        )\n",
        "\n",
        "        # We won't hardcode fc input size, we’ll detect it at runtime\n",
        "        self.fc1 = None\n",
        "        self.fc2 = None\n",
        "        self.fc3 = None\n",
        "        self.num_classes = num_classes\n",
        "\n",
        "    def forward(self, x):\n",
        "        x = self.features(x)\n",
        "        x = x.view(x.size(0), -1)  # flatten\n",
        "\n",
        "        # initialize FC layers dynamically\n",
        "        if self.fc1 is None:\n",
        "            n_features = x.size(1)\n",
        "            self.fc1 = nn.Linear(n_features, 120).to(x.device)\n",
        "            self.fc2 = nn.Linear(120, 84).to(x.device)\n",
        "            self.fc3 = nn.Linear(84, self.num_classes).to(x.device)\n",
        "\n",
        "        x = F.tanh(self.fc1(x))\n",
        "        x = F.tanh(self.fc2(x))\n",
        "        x = self.fc3(x)\n",
        "        return x\n"
      ]
    },
    {
      "cell_type": "markdown",
      "metadata": {
        "id": "1TV4b61LBod0"
      },
      "source": [
        "### **AlexNet**"
      ]
    },
    {
      "cell_type": "code",
      "execution_count": 41,
      "metadata": {
        "id": "qQ1k7kB2Bd52"
      },
      "outputs": [],
      "source": [
        "def get_alexnet(num_classes=10, in_channels=3, input_size=32):\n",
        "    layers = []\n",
        "    # Adjust kernel and stride for smaller images\n",
        "    if input_size >= 64:\n",
        "        layers.append(nn.Conv2d(in_channels, 64, kernel_size=11, stride=4, padding=2))\n",
        "        layers.append(nn.ReLU(inplace=True))\n",
        "        layers.append(nn.MaxPool2d(kernel_size=3, stride=2))\n",
        "    else:\n",
        "        # for small images like 28x28\n",
        "        layers.append(nn.Conv2d(in_channels, 64, kernel_size=3, stride=1, padding=1))\n",
        "        layers.append(nn.ReLU(inplace=True))\n",
        "        layers.append(nn.MaxPool2d(kernel_size=2, stride=2))\n",
        "\n",
        "    layers += [\n",
        "        nn.Conv2d(64, 192, kernel_size=3, padding=1),\n",
        "        nn.ReLU(inplace=True),\n",
        "        nn.MaxPool2d(kernel_size=2, stride=2),\n",
        "        nn.Conv2d(192, 384, kernel_size=3, padding=1),\n",
        "        nn.ReLU(inplace=True),\n",
        "        nn.Conv2d(384, 256, kernel_size=3, padding=1),\n",
        "        nn.ReLU(inplace=True),\n",
        "        nn.Conv2d(256, 256, kernel_size=3, padding=1),\n",
        "        nn.ReLU(inplace=True),\n",
        "        nn.MaxPool2d(kernel_size=2, stride=2),\n",
        "        nn.Flatten()\n",
        "    ]\n",
        "\n",
        "    # Calculate flattened size for given input size\n",
        "    with torch.no_grad():\n",
        "        dummy = torch.zeros(1, in_channels, input_size, input_size)\n",
        "        x = nn.Sequential(*layers[:-1])(dummy)\n",
        "        flattened_size = x.view(1, -1).size(1)\n",
        "\n",
        "    classifier = nn.Sequential(\n",
        "        nn.Linear(flattened_size, 4096),\n",
        "        nn.ReLU(inplace=True),\n",
        "        nn.Dropout(0.5),\n",
        "        nn.Linear(4096, 4096),\n",
        "        nn.ReLU(inplace=True),\n",
        "        nn.Dropout(0.5),\n",
        "        nn.Linear(4096, num_classes)\n",
        "    )\n",
        "\n",
        "    return nn.Sequential(*layers, classifier)"
      ]
    },
    {
      "cell_type": "markdown",
      "metadata": {
        "id": "dw-TYYQVBsYb"
      },
      "source": [
        "### **ResNet**"
      ]
    },
    {
      "cell_type": "code",
      "execution_count": 34,
      "metadata": {
        "id": "ayYIfmnwBr1-"
      },
      "outputs": [],
      "source": [
        "def get_resnet(layers=18, num_classes=10, in_channels=3):\n",
        "    if layers == 18:\n",
        "        model = models.resnet18(weights=None)\n",
        "    elif layers == 34:\n",
        "        model = models.resnet34(weights=None)\n",
        "    else:\n",
        "        raise ValueError(\"Only ResNet-18 or ResNet-34 supported\")\n",
        "\n",
        "    if in_channels != 3:\n",
        "        model.conv1 = nn.Conv2d(in_channels, 64, kernel_size=7, stride=2, padding=3, bias=False)\n",
        "    model.fc = nn.Linear(model.fc.in_features, num_classes)\n",
        "    return model\n"
      ]
    },
    {
      "cell_type": "markdown",
      "metadata": {
        "id": "O0gt6ctBCpmn"
      },
      "source": [
        "## 📊 Dataset Summary\n",
        "\n",
        "| Dataset Name       | Input Image Size | Input Channels | Number of Classes | Type of Images                       |\n",
        "|--------------------|------------------|----------------|-------------------|--------------------------------------|\n",
        "| **MNIST**          | 28 × 28          | **1** (Grayscale) | **10** | Handwritten digits (0–9)             |\n",
        "| **Fashion-MNIST**  | 28 × 28          | **1** (Grayscale) | **10** | Clothing items (T-shirt, Dress, Shoe, etc.) |\n",
        "| **CIFAR-10**       | 32 × 32          | **3** (RGB) | **10** | Real-world objects (Airplane, Dog, Car, etc.) |\n"
      ]
    },
    {
      "cell_type": "code",
      "execution_count": 42,
      "metadata": {
        "id": "Pkz86n3VBwR9"
      },
      "outputs": [],
      "source": [
        "# MNIST (1-channel, 28x28)\n",
        "lenet_mnist = LeNet(in_channels=1, num_classes=10)\n",
        "alexnet_mnist = get_alexnet(num_classes=10, in_channels=1, input_size=28)\n",
        "resnet_mnist = get_resnet(18, num_classes=10, in_channels=1)\n",
        "\n",
        "# CIFAR-10 (3-channel, 32x32)\n",
        "lenet_cifar = LeNet(in_channels=3, num_classes=10)\n",
        "alexnet_cifar = get_alexnet(num_classes=10, in_channels=3, input_size=32)\n",
        "resnet_cifar = get_resnet(34, num_classes=10, in_channels=3)\n"
      ]
    },
    {
      "cell_type": "code",
      "execution_count": 39,
      "metadata": {
        "id": "JVEI8bQECsR9"
      },
      "outputs": [],
      "source": [
        "def train_and_evaluate(model, train_loader, test_loader, dataset_name, model_name, num_epochs=5, lr=0.001):\n",
        "    model = model.to(device)\n",
        "    criterion = nn.CrossEntropyLoss()\n",
        "    optimizer = optim.Adam(model.parameters(), lr=lr)\n",
        "\n",
        "    train_losses = []\n",
        "    test_accuracies = []\n",
        "\n",
        "    for epoch in range(num_epochs):\n",
        "        model.train()\n",
        "        running_loss = 0.0\n",
        "        for images, labels in tqdm(train_loader, desc=f\"{model_name} on {dataset_name} [Epoch {epoch+1}/{num_epochs}]\", leave=False):\n",
        "            images, labels = images.to(device), labels.to(device)\n",
        "            optimizer.zero_grad()\n",
        "            outputs = model(images)\n",
        "            loss = criterion(outputs, labels)\n",
        "            loss.backward()\n",
        "            optimizer.step()\n",
        "            running_loss += loss.item() * images.size(0)\n",
        "\n",
        "        epoch_loss = running_loss / len(train_loader.dataset)\n",
        "        train_losses.append(epoch_loss)\n",
        "\n",
        "        # Evaluation\n",
        "        model.eval()\n",
        "        correct, total = 0, 0\n",
        "        with torch.no_grad():\n",
        "            for images, labels in test_loader:\n",
        "                images, labels = images.to(device), labels.to(device)\n",
        "                outputs = model(images)\n",
        "                _, predicted = torch.max(outputs.data, 1)\n",
        "                total += labels.size(0)\n",
        "                correct += (predicted == labels).sum().item()\n",
        "\n",
        "        accuracy = 100 * correct / total\n",
        "        test_accuracies.append(accuracy)\n",
        "\n",
        "        print(f\"{model_name} on {dataset_name} | Epoch {epoch+1}/{num_epochs} | Loss: {epoch_loss:.4f} | Accuracy: {accuracy:.2f}%\")\n",
        "\n",
        "    return train_losses, test_accuracies"
      ]
    },
    {
      "cell_type": "code",
      "execution_count": 25,
      "metadata": {
        "colab": {
          "base_uri": "https://localhost:8080/",
          "height": 669
        },
        "id": "gufvPZpADN-1",
        "outputId": "fa8675b3-4779-40d3-f0e1-f3f2ea67ff07"
      },
      "outputs": [
        {
          "output_type": "stream",
          "name": "stderr",
          "text": []
        },
        {
          "output_type": "stream",
          "name": "stdout",
          "text": [
            "[MNIST] Epoch 1/10 - Loss: 0.0166 - Test Accuracy: 98.65%\n"
          ]
        },
        {
          "output_type": "stream",
          "name": "stderr",
          "text": []
        },
        {
          "output_type": "stream",
          "name": "stdout",
          "text": [
            "[MNIST] Epoch 2/10 - Loss: 0.0157 - Test Accuracy: 98.28%\n"
          ]
        },
        {
          "output_type": "stream",
          "name": "stderr",
          "text": []
        },
        {
          "output_type": "stream",
          "name": "stdout",
          "text": [
            "[MNIST] Epoch 3/10 - Loss: 0.0120 - Test Accuracy: 98.64%\n"
          ]
        },
        {
          "output_type": "stream",
          "name": "stderr",
          "text": []
        },
        {
          "output_type": "stream",
          "name": "stdout",
          "text": [
            "[MNIST] Epoch 4/10 - Loss: 0.0097 - Test Accuracy: 98.34%\n"
          ]
        },
        {
          "output_type": "stream",
          "name": "stderr",
          "text": []
        },
        {
          "output_type": "stream",
          "name": "stdout",
          "text": [
            "[MNIST] Epoch 5/10 - Loss: 0.0106 - Test Accuracy: 98.77%\n"
          ]
        },
        {
          "output_type": "stream",
          "name": "stderr",
          "text": []
        },
        {
          "output_type": "stream",
          "name": "stdout",
          "text": [
            "[MNIST] Epoch 6/10 - Loss: 0.0103 - Test Accuracy: 98.43%\n"
          ]
        },
        {
          "output_type": "stream",
          "name": "stderr",
          "text": []
        },
        {
          "output_type": "stream",
          "name": "stdout",
          "text": [
            "[MNIST] Epoch 7/10 - Loss: 0.0087 - Test Accuracy: 98.78%\n"
          ]
        },
        {
          "output_type": "stream",
          "name": "stderr",
          "text": []
        },
        {
          "output_type": "stream",
          "name": "stdout",
          "text": [
            "[MNIST] Epoch 8/10 - Loss: 0.0098 - Test Accuracy: 98.62%\n"
          ]
        },
        {
          "output_type": "stream",
          "name": "stderr",
          "text": []
        },
        {
          "output_type": "stream",
          "name": "stdout",
          "text": [
            "[MNIST] Epoch 9/10 - Loss: 0.0096 - Test Accuracy: 98.55%\n"
          ]
        },
        {
          "output_type": "stream",
          "name": "stderr",
          "text": []
        },
        {
          "output_type": "stream",
          "name": "stdout",
          "text": [
            "[MNIST] Epoch 10/10 - Loss: 0.0058 - Test Accuracy: 98.76%\n"
          ]
        },
        {
          "output_type": "display_data",
          "data": {
            "text/plain": [
              "<Figure size 1200x500 with 2 Axes>"
            ],
            "image/png": "[encoded data removed]"
          },
          "metadata": {}
        }
      ],
      "source": [
        "trained_lenet, losses, accuracies = train_and_evaluate(\n",
        "    model=lenet_mnist,\n",
        "    train_loader=mnist_train_loader,\n",
        "    test_loader=mnist_test_loader,\n",
        "    dataset_name=\"MNIST\",\n",
        "    num_epochs=10,\n",
        "    lr=0.001\n",
        ")"
      ]
    },
    {
      "cell_type": "code",
      "execution_count": 37,
      "metadata": {
        "id": "LBPjqOZ7DSul",
        "colab": {
          "base_uri": "https://localhost:8080/"
        },
        "outputId": "49a04cae-7b26-4be4-a661-de76aa0a93f2"
      },
      "outputs": [
        {
          "output_type": "stream",
          "name": "stdout",
          "text": [
            "Using device: cuda\n"
          ]
        }
      ],
      "source": [
        "device = torch.device('cuda' if torch.cuda.is_available() else 'cpu')\n",
        "print(f\"Using device: {device}\")\n"
      ]
    },
    {
      "cell_type": "code",
      "source": [
        "models_dict = {\n",
        "    \"LeNet\": {\n",
        "        \"MNIST\": LeNet(num_classes=10, in_channels=1),\n",
        "        \"FashionMNIST\": LeNet(num_classes=10, in_channels=1),\n",
        "        \"CIFAR10\": LeNet(num_classes=10, in_channels=3)\n",
        "    },\n",
        "    \"AlexNet\": {\n",
        "        \"MNIST\": get_alexnet(num_classes=10, in_channels=1, input_size=28),\n",
        "        \"FashionMNIST\": get_alexnet(num_classes=10, in_channels=1, input_size=28),\n",
        "        \"CIFAR10\": get_alexnet(num_classes=10, in_channels=3, input_size=32)\n",
        "    },\n",
        "    \"ResNet\": {\n",
        "        \"MNIST\": get_resnet(18, num_classes=10, in_channels=1),\n",
        "        \"FashionMNIST\": get_resnet(18, num_classes=10, in_channels=1),\n",
        "        \"CIFAR10\": get_resnet(18, num_classes=10, in_channels=3)\n",
        "    }\n",
        "}\n",
        "\n",
        "# Dataset loaders dictionary (unchanged)\n",
        "datasets_dict = {\n",
        "    \"MNIST\": (mnist_train_loader, mnist_test_loader),\n",
        "    \"FashionMNIST\": (fashion_train_loader, fashion_test_loader),\n",
        "    \"CIFAR10\": (cifar_train_loader, cifar_test_loader)\n",
        "}\n"
      ],
      "metadata": {
        "id": "vfM3TBwDcwyV"
      },
      "execution_count": 44,
      "outputs": []
    },
    {
      "cell_type": "code",
      "source": [
        "results = []\n",
        "\n",
        "for model_name, dataset_map in models_dict.items():\n",
        "    for dataset_name, model in dataset_map.items():\n",
        "        print(f\"\\n🚀 Training {model_name} on {dataset_name} dataset...\")\n",
        "        print(\"------------------------------------------------------------\")\n",
        "\n",
        "        train_loader, test_loader = datasets_dict[dataset_name]\n",
        "\n",
        "        losses, accuracies = train_and_evaluate(\n",
        "            model=model,\n",
        "            train_loader=train_loader,\n",
        "            test_loader=test_loader,\n",
        "            dataset_name=dataset_name,\n",
        "            model_name=model_name,\n",
        "            num_epochs=5,   # can increase for full runs\n",
        "            lr=0.001\n",
        "        )\n",
        "\n",
        "        best_acc = max(accuracies)\n",
        "        results.append({\n",
        "            \"Model\": model_name,\n",
        "            \"Dataset\": dataset_name,\n",
        "            \"Best Accuracy\": best_acc\n",
        "        })\n"
      ],
      "metadata": {
        "colab": {
          "base_uri": "https://localhost:8080/"
        },
        "id": "p33QaboxdxeH",
        "outputId": "050f7904-3705-4a31-fb6f-69809ac4b643"
      },
      "execution_count": 45,
      "outputs": [
        {
          "output_type": "stream",
          "name": "stdout",
          "text": [
            "\n",
            "🚀 Training LeNet on MNIST dataset...\n",
            "------------------------------------------------------------\n"
          ]
        },
        {
          "output_type": "stream",
          "name": "stderr",
          "text": []
        },
        {
          "output_type": "stream",
          "name": "stdout",
          "text": [
            "LeNet on MNIST | Epoch 1/5 | Loss: 2.0753 | Accuracy: 69.26%\n"
          ]
        },
        {
          "output_type": "stream",
          "name": "stderr",
          "text": []
        },
        {
          "output_type": "stream",
          "name": "stdout",
          "text": [
            "LeNet on MNIST | Epoch 2/5 | Loss: 1.9893 | Accuracy: 76.13%\n"
          ]
        },
        {
          "output_type": "stream",
          "name": "stderr",
          "text": []
        },
        {
          "output_type": "stream",
          "name": "stdout",
          "text": [
            "LeNet on MNIST | Epoch 3/5 | Loss: 1.9486 | Accuracy: 80.30%\n"
          ]
        },
        {
          "output_type": "stream",
          "name": "stderr",
          "text": []
        },
        {
          "output_type": "stream",
          "name": "stdout",
          "text": [
            "LeNet on MNIST | Epoch 4/5 | Loss: 1.9254 | Accuracy: 81.88%\n"
          ]
        },
        {
          "output_type": "stream",
          "name": "stderr",
          "text": []
        },
        {
          "output_type": "stream",
          "name": "stdout",
          "text": [
            "LeNet on MNIST | Epoch 5/5 | Loss: 1.9113 | Accuracy: 82.66%\n",
            "\n",
            "🚀 Training LeNet on FashionMNIST dataset...\n",
            "------------------------------------------------------------\n"
          ]
        },
        {
          "output_type": "stream",
          "name": "stderr",
          "text": []
        },
        {
          "output_type": "stream",
          "name": "stdout",
          "text": [
            "LeNet on FashionMNIST | Epoch 1/5 | Loss: 2.0476 | Accuracy: 62.37%\n"
          ]
        },
        {
          "output_type": "stream",
          "name": "stderr",
          "text": []
        },
        {
          "output_type": "stream",
          "name": "stdout",
          "text": [
            "LeNet on FashionMNIST | Epoch 2/5 | Loss: 1.9719 | Accuracy: 66.08%\n"
          ]
        },
        {
          "output_type": "stream",
          "name": "stderr",
          "text": []
        },
        {
          "output_type": "stream",
          "name": "stdout",
          "text": [
            "LeNet on FashionMNIST | Epoch 3/5 | Loss: 1.9426 | Accuracy: 67.42%\n"
          ]
        },
        {
          "output_type": "stream",
          "name": "stderr",
          "text": []
        },
        {
          "output_type": "stream",
          "name": "stdout",
          "text": [
            "LeNet on FashionMNIST | Epoch 4/5 | Loss: 1.9234 | Accuracy: 69.75%\n"
          ]
        },
        {
          "output_type": "stream",
          "name": "stderr",
          "text": []
        },
        {
          "output_type": "stream",
          "name": "stdout",
          "text": [
            "LeNet on FashionMNIST | Epoch 5/5 | Loss: 1.9110 | Accuracy: 70.77%\n",
            "\n",
            "🚀 Training LeNet on CIFAR10 dataset...\n",
            "------------------------------------------------------------\n"
          ]
        },
        {
          "output_type": "stream",
          "name": "stderr",
          "text": []
        },
        {
          "output_type": "stream",
          "name": "stdout",
          "text": [
            "LeNet on CIFAR10 | Epoch 1/5 | Loss: 2.2304 | Accuracy: 27.16%\n"
          ]
        },
        {
          "output_type": "stream",
          "name": "stderr",
          "text": []
        },
        {
          "output_type": "stream",
          "name": "stdout",
          "text": [
            "LeNet on CIFAR10 | Epoch 2/5 | Loss: 2.2091 | Accuracy: 28.52%\n"
          ]
        },
        {
          "output_type": "stream",
          "name": "stderr",
          "text": []
        },
        {
          "output_type": "stream",
          "name": "stdout",
          "text": [
            "LeNet on CIFAR10 | Epoch 3/5 | Loss: 2.2016 | Accuracy: 29.54%\n"
          ]
        },
        {
          "output_type": "stream",
          "name": "stderr",
          "text": []
        },
        {
          "output_type": "stream",
          "name": "stdout",
          "text": [
            "LeNet on CIFAR10 | Epoch 4/5 | Loss: 2.1955 | Accuracy: 31.40%\n"
          ]
        },
        {
          "output_type": "stream",
          "name": "stderr",
          "text": []
        },
        {
          "output_type": "stream",
          "name": "stdout",
          "text": [
            "LeNet on CIFAR10 | Epoch 5/5 | Loss: 2.1907 | Accuracy: 32.49%\n",
            "\n",
            "🚀 Training AlexNet on MNIST dataset...\n",
            "------------------------------------------------------------\n"
          ]
        },
        {
          "output_type": "stream",
          "name": "stderr",
          "text": []
        },
        {
          "output_type": "stream",
          "name": "stdout",
          "text": [
            "AlexNet on MNIST | Epoch 1/5 | Loss: 0.3331 | Accuracy: 98.04%\n"
          ]
        },
        {
          "output_type": "stream",
          "name": "stderr",
          "text": []
        },
        {
          "output_type": "stream",
          "name": "stdout",
          "text": [
            "AlexNet on MNIST | Epoch 2/5 | Loss: 0.0741 | Accuracy: 98.39%\n"
          ]
        },
        {
          "output_type": "stream",
          "name": "stderr",
          "text": []
        },
        {
          "output_type": "stream",
          "name": "stdout",
          "text": [
            "AlexNet on MNIST | Epoch 3/5 | Loss: 0.0596 | Accuracy: 98.72%\n"
          ]
        },
        {
          "output_type": "stream",
          "name": "stderr",
          "text": []
        },
        {
          "output_type": "stream",
          "name": "stdout",
          "text": [
            "AlexNet on MNIST | Epoch 4/5 | Loss: 0.0538 | Accuracy: 97.95%\n"
          ]
        },
        {
          "output_type": "stream",
          "name": "stderr",
          "text": []
        },
        {
          "output_type": "stream",
          "name": "stdout",
          "text": [
            "AlexNet on MNIST | Epoch 5/5 | Loss: 0.0500 | Accuracy: 98.60%\n",
            "\n",
            "🚀 Training AlexNet on FashionMNIST dataset...\n",
            "------------------------------------------------------------\n"
          ]
        },
        {
          "output_type": "stream",
          "name": "stderr",
          "text": []
        },
        {
          "output_type": "stream",
          "name": "stdout",
          "text": [
            "AlexNet on FashionMNIST | Epoch 1/5 | Loss: 0.5222 | Accuracy: 86.80%\n"
          ]
        },
        {
          "output_type": "stream",
          "name": "stderr",
          "text": []
        },
        {
          "output_type": "stream",
          "name": "stdout",
          "text": [
            "AlexNet on FashionMNIST | Epoch 2/5 | Loss: 0.3081 | Accuracy: 88.98%\n"
          ]
        },
        {
          "output_type": "stream",
          "name": "stderr",
          "text": []
        },
        {
          "output_type": "stream",
          "name": "stdout",
          "text": [
            "AlexNet on FashionMNIST | Epoch 3/5 | Loss: 0.2702 | Accuracy: 89.23%\n"
          ]
        },
        {
          "output_type": "stream",
          "name": "stderr",
          "text": []
        },
        {
          "output_type": "stream",
          "name": "stdout",
          "text": [
            "AlexNet on FashionMNIST | Epoch 4/5 | Loss: 0.2431 | Accuracy: 90.33%\n"
          ]
        },
        {
          "output_type": "stream",
          "name": "stderr",
          "text": []
        },
        {
          "output_type": "stream",
          "name": "stdout",
          "text": [
            "AlexNet on FashionMNIST | Epoch 5/5 | Loss: 0.2275 | Accuracy: 89.56%\n",
            "\n",
            "🚀 Training AlexNet on CIFAR10 dataset...\n",
            "------------------------------------------------------------\n"
          ]
        },
        {
          "output_type": "stream",
          "name": "stderr",
          "text": []
        },
        {
          "output_type": "stream",
          "name": "stdout",
          "text": [
            "AlexNet on CIFAR10 | Epoch 1/5 | Loss: 1.6058 | Accuracy: 53.22%\n"
          ]
        },
        {
          "output_type": "stream",
          "name": "stderr",
          "text": []
        },
        {
          "output_type": "stream",
          "name": "stdout",
          "text": [
            "AlexNet on CIFAR10 | Epoch 2/5 | Loss: 1.1460 | Accuracy: 62.10%\n"
          ]
        },
        {
          "output_type": "stream",
          "name": "stderr",
          "text": []
        },
        {
          "output_type": "stream",
          "name": "stdout",
          "text": [
            "AlexNet on CIFAR10 | Epoch 3/5 | Loss: 0.9394 | Accuracy: 68.50%\n"
          ]
        },
        {
          "output_type": "stream",
          "name": "stderr",
          "text": []
        },
        {
          "output_type": "stream",
          "name": "stdout",
          "text": [
            "AlexNet on CIFAR10 | Epoch 4/5 | Loss: 0.8071 | Accuracy: 69.44%\n"
          ]
        },
        {
          "output_type": "stream",
          "name": "stderr",
          "text": []
        },
        {
          "output_type": "stream",
          "name": "stdout",
          "text": [
            "AlexNet on CIFAR10 | Epoch 5/5 | Loss: 0.7265 | Accuracy: 72.06%\n",
            "\n",
            "🚀 Training ResNet on MNIST dataset...\n",
            "------------------------------------------------------------\n"
          ]
        },
        {
          "output_type": "stream",
          "name": "stderr",
          "text": []
        },
        {
          "output_type": "stream",
          "name": "stdout",
          "text": [
            "ResNet on MNIST | Epoch 1/5 | Loss: 0.1372 | Accuracy: 96.15%\n"
          ]
        },
        {
          "output_type": "stream",
          "name": "stderr",
          "text": []
        },
        {
          "output_type": "stream",
          "name": "stdout",
          "text": [
            "ResNet on MNIST | Epoch 2/5 | Loss: 0.0619 | Accuracy: 98.80%\n"
          ]
        },
        {
          "output_type": "stream",
          "name": "stderr",
          "text": []
        },
        {
          "output_type": "stream",
          "name": "stdout",
          "text": [
            "ResNet on MNIST | Epoch 3/5 | Loss: 0.0460 | Accuracy: 98.98%\n"
          ]
        },
        {
          "output_type": "stream",
          "name": "stderr",
          "text": []
        },
        {
          "output_type": "stream",
          "name": "stdout",
          "text": [
            "ResNet on MNIST | Epoch 4/5 | Loss: 0.0376 | Accuracy: 99.29%\n"
          ]
        },
        {
          "output_type": "stream",
          "name": "stderr",
          "text": []
        },
        {
          "output_type": "stream",
          "name": "stdout",
          "text": [
            "ResNet on MNIST | Epoch 5/5 | Loss: 0.0327 | Accuracy: 98.25%\n",
            "\n",
            "🚀 Training ResNet on FashionMNIST dataset...\n",
            "------------------------------------------------------------\n"
          ]
        },
        {
          "output_type": "stream",
          "name": "stderr",
          "text": []
        },
        {
          "output_type": "stream",
          "name": "stdout",
          "text": [
            "ResNet on FashionMNIST | Epoch 1/5 | Loss: 0.4314 | Accuracy: 87.73%\n"
          ]
        },
        {
          "output_type": "stream",
          "name": "stderr",
          "text": []
        },
        {
          "output_type": "stream",
          "name": "stdout",
          "text": [
            "ResNet on FashionMNIST | Epoch 2/5 | Loss: 0.3087 | Accuracy: 88.26%\n"
          ]
        },
        {
          "output_type": "stream",
          "name": "stderr",
          "text": []
        },
        {
          "output_type": "stream",
          "name": "stdout",
          "text": [
            "ResNet on FashionMNIST | Epoch 3/5 | Loss: 0.2724 | Accuracy: 89.74%\n"
          ]
        },
        {
          "output_type": "stream",
          "name": "stderr",
          "text": []
        },
        {
          "output_type": "stream",
          "name": "stdout",
          "text": [
            "ResNet on FashionMNIST | Epoch 4/5 | Loss: 0.2416 | Accuracy: 88.46%\n"
          ]
        },
        {
          "output_type": "stream",
          "name": "stderr",
          "text": []
        },
        {
          "output_type": "stream",
          "name": "stdout",
          "text": [
            "ResNet on FashionMNIST | Epoch 5/5 | Loss: 0.2215 | Accuracy: 89.56%\n",
            "\n",
            "🚀 Training ResNet on CIFAR10 dataset...\n",
            "------------------------------------------------------------\n"
          ]
        },
        {
          "output_type": "stream",
          "name": "stderr",
          "text": []
        },
        {
          "output_type": "stream",
          "name": "stdout",
          "text": [
            "ResNet on CIFAR10 | Epoch 1/5 | Loss: 1.3837 | Accuracy: 57.71%\n"
          ]
        },
        {
          "output_type": "stream",
          "name": "stderr",
          "text": []
        },
        {
          "output_type": "stream",
          "name": "stdout",
          "text": [
            "ResNet on CIFAR10 | Epoch 2/5 | Loss: 0.9871 | Accuracy: 65.20%\n"
          ]
        },
        {
          "output_type": "stream",
          "name": "stderr",
          "text": []
        },
        {
          "output_type": "stream",
          "name": "stdout",
          "text": [
            "ResNet on CIFAR10 | Epoch 3/5 | Loss: 0.8145 | Accuracy: 71.26%\n"
          ]
        },
        {
          "output_type": "stream",
          "name": "stderr",
          "text": []
        },
        {
          "output_type": "stream",
          "name": "stdout",
          "text": [
            "ResNet on CIFAR10 | Epoch 4/5 | Loss: 0.6899 | Accuracy: 73.08%\n"
          ]
        },
        {
          "output_type": "stream",
          "name": "stderr",
          "text": []
        },
        {
          "output_type": "stream",
          "name": "stdout",
          "text": [
            "ResNet on CIFAR10 | Epoch 5/5 | Loss: 0.5850 | Accuracy: 74.54%\n"
          ]
        }
      ]
    },
    {
      "cell_type": "code",
      "source": [
        "results_df = pd.DataFrame(results)\n",
        "print(\"\\n📊 Final Results Summary:\")\n",
        "print(results_df)\n",
        "\n",
        "# Pivot for heatmap\n",
        "pivot_df = results_df.pivot(index=\"Model\", columns=\"Dataset\", values=\"Best Accuracy\")\n",
        "\n",
        "plt.figure(figsize=(8,5))\n",
        "sns.heatmap(pivot_df, annot=True, cmap=\"Blues\", fmt=\".2f\")\n",
        "plt.title(\"Model Performance (Best Accuracy %)\")\n",
        "plt.show()"
      ],
      "metadata": {
        "colab": {
          "base_uri": "https://localhost:8080/",
          "height": 706
        },
        "id": "aLZoA_tYdz-5",
        "outputId": "4050a586-3b1e-4962-ad92-03aa44196d11"
      },
      "execution_count": 48,
      "outputs": [
        {
          "output_type": "stream",
          "name": "stdout",
          "text": [
            "\n",
            "📊 Final Results Summary:\n",
            "     Model       Dataset  Best Accuracy\n",
            "0    LeNet         MNIST          82.66\n",
            "1    LeNet  FashionMNIST          70.77\n",
            "2    LeNet       CIFAR10          32.49\n",
            "3  AlexNet         MNIST          98.72\n",
            "4  AlexNet  FashionMNIST          90.33\n",
            "5  AlexNet       CIFAR10          72.06\n",
            "6   ResNet         MNIST          99.29\n",
            "7   ResNet  FashionMNIST          89.74\n",
            "8   ResNet       CIFAR10          74.54\n"
          ]
        },
        {
          "output_type": "display_data",
          "data": {
            "text/plain": [
              "<Figure size 800x500 with 2 Axes>"
            ],
            "image/png": "[encoded data removed]"
          },
          "metadata": {}
        }
      ]
    },
    {
      "cell_type": "markdown",
      "source": [
        "# CNN Model Performance Analysis\n",
        "\n",
        "## 📊 Experimental Results\n",
        "\n",
        "### **Accuracy Comparison of CNN Models on Different Datasets**\n",
        "\n",
        "| Model   | MNIST (%) | FashionMNIST (%) | CIFAR-10 (%) |\n",
        "|---------|-----------|-----------------|--------------|\n",
        "| LeNet   | 82.66     | 70.77           | 32.49        |\n",
        "| AlexNet | 98.72     | 90.33           | 72.06        |\n",
        "| ResNet  | 99.29     | 89.74           | 74.54        |\n",
        "\n",
        "---\n",
        "\n",
        "### **Observations**\n",
        "- **MNIST**: All models perform well, with **ResNet** slightly outperforming others.\n",
        "- **FashionMNIST**: AlexNet and ResNet show similar performance; LeNet lags behind.\n",
        "- **CIFAR-10**: ResNet and AlexNet significantly outperform LeNet due to the dataset's complexity and color channels.\n",
        "\n",
        "---\n",
        "\n",
        "## 📈 Conclusion and Analysis\n",
        "\n",
        "1. **Model Performance by Dataset**\n",
        "   - **MNIST**: Simple grayscale digits → shallow models like LeNet are sufficient, but deeper models (AlexNet, ResNet) achieve higher accuracy.\n",
        "   - **FashionMNIST**: Slightly more complex grayscale images → LeNet struggles, deeper architectures handle patterns better.\n",
        "   - **CIFAR-10**: Complex colored images → deeper CNNs with more parameters (AlexNet, ResNet) outperform shallow LeNet by a large margin.\n",
        "\n",
        "2. **Impact of Dataset Complexity and Model Depth**\n",
        "   - Simple datasets → small networks can achieve reasonable accuracy.\n",
        "   - Complex datasets → deeper networks with more convolutional layers and feature extractors generalize better.\n",
        "\n",
        "3. **Potential Improvements**\n",
        "   - Hyperparameter tuning: learning rate, batch size, optimizer selection.\n",
        "   - Data augmentation: flipping, cropping, color jitter to improve CIFAR-10 performance.\n",
        "   - Regularization techniques: dropout, weight decay to avoid overfitting.\n",
        "   - Transfer learning for small datasets: fine-tuning pre-trained models like ResNet.\n",
        "\n",
        "4. **Summary**\n",
        "   - **MNIST** → ResNet slightly better, but LeNet is adequate.  \n",
        "   - **FashionMNIST** → AlexNet or ResNet preferred.  \n",
        "   - **CIFAR-10** → ResNet > AlexNet >> LeNet; deep models required for complex RGB images.\n"
      ],
      "metadata": {
        "id": "qGx1yR7Ospbd"
      }
    },
    {
      "cell_type": "code",
      "source": [],
      "metadata": {
        "id": "hcrIs0fxrFLA"
      },
      "execution_count": null,
      "outputs": []
    }
  ],
  "metadata": {
    "accelerator": "GPU",
    "colab": {
      "gpuType": "T4",
      "provenance": []
    },
    "kernelspec": {
      "display_name": "Python 3",
      "name": "python3"
    },
    "language_info": {
      "name": "python"
    }
  },
  "nbformat": 4,
  "nbformat_minor": 0
}